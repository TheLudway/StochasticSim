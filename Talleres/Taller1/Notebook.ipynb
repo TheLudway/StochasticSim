{
 "cells": [
  {
   "cell_type": "markdown",
   "metadata": {},
   "source": [
    "Licencia\n",
    "\n",
    "Taller 1: Probabilidad, Variables aleatorias, Generadores aleatorios,\n",
    "Simulación de Monte Carlo\n",
    "\n",
    "Copyright (C) 2024 Alvarado Ludwig & Vera Julián\n",
    "\n",
    "Este programa es software libre: usted puede redistribuirlo y/o modificarlo bajo los términos de la Licencia Pública General GNU publicada por la Free Software Foundation, ya sea la versión 3 de la Licencia o (a su elección) cualquier versión posterior.\n",
    "\n",
    "Este programa se distribuye con la esperanza de que sea útil, pero SIN NINGUNA GARANTÍA; incluso sin la garantía implícita de COMERCIALIZACIÓN o IDONEIDAD PARA UN PROPÓSITO PARTICULAR. Consulte la Licencia Pública General GNU para más detalles.\n",
    "\n",
    "Usted debería haber recibido una copia de la Licencia Pública General GNU junto con este programa. Si no es así, consulte https://www.gnu.org/licenses/.\n",
    "\n",
    "<img src=\"https://upload.wikimedia.org/wikipedia/commons/thumb/9/93/GPLv3_Logo.svg/1920px-GPLv3_Logo.svg.png\" alt=\"GPL\" width=\"400\" height=\"200\">"
   ]
  },
  {
   "cell_type": "markdown",
   "metadata": {},
   "source": [
    "# Congruential Generators\n",
    "\n",
    "Se realiza un algoritmo para generar un ciclo de números pseudoaleatorio.\n",
    "\n",
    "$$\n",
    "X_{n} = (9X_{n-1} + 3) \\mod 11\n",
    "$$"
   ]
  },
  {
   "cell_type": "code",
   "execution_count": 3,
   "metadata": {},
   "outputs": [],
   "source": [
    "def generator(x_n1, n):\n",
    "    for i in range(n):\n",
    "        print(x_n1)\n",
    "        x_n1 = (9*x_n1 + 3)% 11"
   ]
  },
  {
   "cell_type": "code",
   "execution_count": 15,
   "metadata": {},
   "outputs": [
    {
     "name": "stdout",
     "output_type": "stream",
     "text": [
      "10\n",
      "5\n",
      "4\n",
      "6\n",
      "2\n",
      "10\n",
      "5\n",
      "4\n",
      "6\n",
      "2\n",
      "10\n",
      "5\n",
      "4\n",
      "6\n",
      "2\n",
      "10\n",
      "5\n",
      "4\n",
      "6\n",
      "2\n",
      "10\n",
      "5\n",
      "4\n",
      "6\n",
      "2\n",
      "10\n",
      "5\n",
      "4\n",
      "6\n",
      "2\n"
     ]
    }
   ],
   "source": [
    "generator(10, 30)"
   ]
  }
 ],
 "metadata": {
  "kernelspec": {
   "display_name": "base",
   "language": "python",
   "name": "python3"
  },
  "language_info": {
   "codemirror_mode": {
    "name": "ipython",
    "version": 3
   },
   "file_extension": ".py",
   "mimetype": "text/x-python",
   "name": "python",
   "nbconvert_exporter": "python",
   "pygments_lexer": "ipython3",
   "version": "3.12.7"
  }
 },
 "nbformat": 4,
 "nbformat_minor": 2
}
